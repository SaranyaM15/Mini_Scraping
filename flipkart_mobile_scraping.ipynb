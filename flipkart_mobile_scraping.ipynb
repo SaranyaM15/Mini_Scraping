{
 "cells": [
  {
   "cell_type": "code",
   "execution_count": 21,
   "id": "9e149743",
   "metadata": {},
   "outputs": [],
   "source": [
    "import requests\n",
    "from bs4 import BeautifulSoup"
   ]
  },
  {
   "cell_type": "code",
   "execution_count": 22,
   "id": "c9e2a0b0",
   "metadata": {},
   "outputs": [],
   "source": [
    "url='https://www.flipkart.com/search?q=laptops&otracker=search&otracker1=search&marketplace=FLIPKART&as-show=on&as=off'\n",
    "r=requests.post(url)\n",
    "html=r.content\n",
    "#print(html)"
   ]
  },
  {
   "cell_type": "code",
   "execution_count": 23,
   "id": "d5480756",
   "metadata": {},
   "outputs": [],
   "source": [
    "s=BeautifulSoup(html,\"html.parser\")\n",
    "#s=s.prettify()\n",
    "#print(s)"
   ]
  },
  {
   "cell_type": "code",
   "execution_count": 24,
   "id": "1e54ddee",
   "metadata": {},
   "outputs": [
    {
     "name": "stdout",
     "output_type": "stream",
     "text": [
      "56\n"
     ]
    }
   ],
   "source": [
    "c=s.find_all('div',{\"class\":\"_2MImiq\"})\n",
    "for i in c:\n",
    "    no_pages =i.find_all('span')[0].text\n",
    "    no_pages=int(no_pages.split()[-1])\n",
    "print(no_pages)\n",
    "    "
   ]
  },
  {
   "cell_type": "code",
   "execution_count": 25,
   "id": "d5975394",
   "metadata": {},
   "outputs": [],
   "source": [
    "urls=[url]\n",
    "for i in range(2,no_pages+1):\n",
    "    temp=url+\"&page=\"+str(i)\n",
    "    urls.append(temp)\n",
    "#print(urls)\n",
    "    "
   ]
  },
  {
   "cell_type": "code",
   "execution_count": 26,
   "id": "53499dc9",
   "metadata": {},
   "outputs": [
    {
     "name": "stdout",
     "output_type": "stream",
     "text": [
      "page= 0\n",
      "page= 1\n",
      "page= 2\n",
      "page= 3\n",
      "page= 4\n",
      "page= 5\n",
      "page= 6\n",
      "page= 7\n",
      "page= 8\n",
      "page= 9\n",
      "page= 10\n",
      "page= 11\n",
      "page= 12\n",
      "page= 13\n",
      "page= 14\n",
      "page= 15\n",
      "page= 16\n",
      "page= 17\n",
      "page= 18\n",
      "page= 19\n",
      "page= 20\n",
      "page= 21\n",
      "page= 22\n",
      "page= 23\n",
      "page= 24\n",
      "page= 25\n",
      "page= 26\n",
      "page= 27\n",
      "page= 28\n",
      "page= 29\n",
      "page= 30\n",
      "page= 31\n",
      "page= 32\n",
      "page= 33\n",
      "page= 34\n",
      "page= 35\n",
      "page= 36\n",
      "page= 37\n",
      "page= 38\n",
      "page= 39\n",
      "page= 40\n",
      "page= 41\n",
      "page= 42\n",
      "page= 43\n",
      "page= 44\n",
      "page= 45\n",
      "page= 46\n",
      "page= 47\n",
      "page= 48\n",
      "page= 49\n",
      "page= 50\n",
      "page= 51\n",
      "page= 52\n",
      "page= 53\n",
      "page= 54\n",
      "page= 55\n"
     ]
    }
   ],
   "source": [
    "Mobile_Names=[]\n",
    "mobile_prices=[]\n",
    "k=0\n",
    "for u in urls:\n",
    "    print(\"page=\",k)\n",
    "    k+=1\n",
    "    r=requests.post(u)\n",
    "    html=r.content\n",
    "    s=BeautifulSoup(html,\"html.parser\")\n",
    "    name=s.find_all(\"div\",{\"class\":\"_4rR01T\"})\n",
    "    for i in name:\n",
    "        Mobile_Names.append(i.text)\n",
    "    price=s.find_all(\"div\",{\"class\":'_30jeq3 _1_WHN1'})\n",
    "    for j in price:\n",
    "        mobile_prices.append(j.text)\n",
    "\n",
    "    \n",
    "    "
   ]
  },
  {
   "cell_type": "code",
   "execution_count": 28,
   "id": "c53e054b",
   "metadata": {},
   "outputs": [],
   "source": [
    "#Moving data to excel sheet\n",
    "import pandas as pd\n",
    "data={\"model\":Mobile_Names,\"prices\":mobile_prices}\n",
    "df=pd.DataFrame(data)\n",
    "file_name=pd.ExcelWriter(\"flipkart_laptop_scrap.xlsx\",engine=\"xlsxwriter\")\n",
    "df.to_excel(file_name,index=False)\n",
    "file_name.save()"
   ]
  },
  {
   "cell_type": "code",
   "execution_count": null,
   "id": "e7a2311c",
   "metadata": {},
   "outputs": [],
   "source": []
  }
 ],
 "metadata": {
  "kernelspec": {
   "display_name": "Python 3",
   "language": "python",
   "name": "python3"
  },
  "language_info": {
   "codemirror_mode": {
    "name": "ipython",
    "version": 3
   },
   "file_extension": ".py",
   "mimetype": "text/x-python",
   "name": "python",
   "nbconvert_exporter": "python",
   "pygments_lexer": "ipython3",
   "version": "3.10.1 (tags/v3.10.1:2cd268a, Dec  6 2021, 19:10:37) [MSC v.1929 64 bit (AMD64)]"
  },
  "vscode": {
   "interpreter": {
    "hash": "3d8ab5acaac509e4d858c12fb0d4a8507f032609669b0a96f8e4499f76636384"
   }
  }
 },
 "nbformat": 4,
 "nbformat_minor": 5
}
