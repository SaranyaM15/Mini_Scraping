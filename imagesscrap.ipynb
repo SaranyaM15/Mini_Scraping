{
 "cells": [
  {
   "cell_type": "code",
   "execution_count": 1,
   "metadata": {},
   "outputs": [],
   "source": [
    "from bs4 import BeautifulSoup\n",
    "import requests\n",
    "import urllib.request\n"
   ]
  },
  {
   "cell_type": "code",
   "execution_count": 2,
   "metadata": {},
   "outputs": [],
   "source": [
    "Headers={'User-Agent':'Mozilla/5.0 (Windows NT 10.0; Win64; x64) AppleWebKit/537.36 (KHTML, like Gecko) Chrome/109.0.0.0 Safari/537.36'}\n",
    "req = requests.get(\"https://unsplash.com/s/photos/dogs\",headers=Headers).text\n"
   ]
  },
  {
   "cell_type": "code",
   "execution_count": 3,
   "metadata": {},
   "outputs": [],
   "source": [
    "S = BeautifulSoup(req,'lxml')"
   ]
  },
  {
   "cell_type": "code",
   "execution_count": 4,
   "metadata": {},
   "outputs": [],
   "source": [
    "images=[]"
   ]
  },
  {
   "cell_type": "code",
   "execution_count": 5,
   "metadata": {},
   "outputs": [],
   "source": [
    "image_links=S.select('img[src^=\"https://media.istockphoto.com/id\"]')"
   ]
  },
  {
   "cell_type": "code",
   "execution_count": 6,
   "metadata": {},
   "outputs": [],
   "source": [
    "for i in range(len(image_links)):\n",
    "    images.append(image_links[i]['src'])"
   ]
  },
  {
   "cell_type": "code",
   "execution_count": 7,
   "metadata": {},
   "outputs": [
    {
     "name": "stdout",
     "output_type": "stream",
     "text": [
      "['https://media.istockphoto.com/id/1328887289/photo/happy-dog.jpg?b=1&s=170667a&w=0&k=20&c=mp3L73BC14QUuk1EQaYtZ1-wwJRW9HAffcsGZNyMy_o=', 'https://media.istockphoto.com/id/1425207162/photo/studio-shot-of-welsh-corgi-pembroke-catching-a-treat.jpg?b=1&s=170667a&w=0&k=20&c=SMJO2OWIFFJpLdCeJP0EXVWRN1kAPwFg2z5MxL7xMWA=', 'https://media.istockphoto.com/id/1367150296/photo/happy-young-african-american-man-petting-his-dog-outdoors-in-nature.jpg?b=1&s=170667a&w=0&k=20&c=yLiBCLy3VLpPjGm_Rn3N2g9FDwj1osQhV8u97b6E-do=', 'https://media.istockphoto.com/id/1419935827/photo/dog-wearing-self-made-paper-party-hat-with-thanksgiving-turkey-background-for-holiday-card-or.jpg?b=1&s=170667a&w=0&k=20&c=GiYzNLWwMYdCVy8knX5L9n10HPZnV4mbmUIY39OcXxM=', 'https://media.istockphoto.com/id/1349321709/photo/full-length-shot-of-an-adorable-dog-lying-on-the-sofa-at-home.jpg?b=1&s=170667a&w=0&k=20&c=QNW8aqRyNqrKDxmWPgA29775-lML_lJOH5YYl9vGBxk=', 'https://media.istockphoto.com/id/1402896175/photo/panting-black-and-white-border-collie-sitting-in-front-and-looking-at-the-camera.jpg?b=1&s=170667a&w=0&k=20&c=QNgat9d4LKuKqUphH3QVYqGMqxsSNvuHcXA6qoS-7UM=', 'https://media.istockphoto.com/id/1392114708/photo/working-with-my-little-asistent-by-my-side.jpg?b=1&s=170667a&w=0&k=20&c=NrN25vFbb_4NMLKfs3s7ajgaREF-VQWvv2v4HYQ5_8g=', 'https://media.istockphoto.com/id/1402891368/photo/dachshund-wearing-a-blue-dog-collar-standing-isolated-on-white.jpg?b=1&s=170667a&w=0&k=20&c=epqGpql0Lb2SZ_pEEMj8hdtD44Y68UEGiS4oizyFx8c=', 'https://media.istockphoto.com/id/1410966682/photo/four-dogs-in-the-forest.jpg?b=1&s=170667a&w=0&k=20&c=b0rENjSTTS7sOlYIzGYGNBPIJgRmefgKoi4SQwwY3cQ=', 'https://media.istockphoto.com/id/1364253107/photo/dog-and-cat-as-best-friends-looking-out-the-window-together.jpg?b=1&s=170667a&w=0&k=20&c=u1xPaiM1NNVHPtvPVhh0vKCoU0wycUeQD61v6NpVBWI=', 'https://media.istockphoto.com/id/1372099532/photo/cropped-shot-of-an-unrecognisable-couple-sitting-on-the-sofa-at-home-with-their-border-collie.jpg?b=1&s=170667a&w=0&k=20&c=eQki66YLSis9nlgxal-Y4mHb1Bz-O3vavHVxmE2YJT8=', 'https://media.istockphoto.com/id/1398810303/photo/happy-dog-of-welsh-corgi-pembroke-breed-among-fallen-leaves-in-autumn.jpg?b=1&s=170667a&w=0&k=20&c=jklYfwJXKWHObS-kRUtN2k_A4-K6Co9NUri0qfth8us=', 'https://media.istockphoto.com/id/1391430520/photo/dog-uses-laptop.jpg?b=1&s=170667a&w=0&k=20&c=dSt2zt6nIbhjXsadI_cpIlnSOyaa8h2HmlMwk8wrw64=', 'https://media.istockphoto.com/id/1385113345/photo/a-cat-and-a-dog-lie-together-on-the-bed-pets-sleeping-on-a-cozy-gray-plaid-the-care-of.jpg?b=1&s=170667a&w=0&k=20&c=QgbGodyGm6IoKM0i10Atd4WAryJpe4-nDdEUuVEKnpU=', 'https://media.istockphoto.com/id/1372099513/photo/shot-of-a-handsome-young-man-sitting-with-his-border-collie-in-the-living-room-and-using-his.jpg?b=1&s=170667a&w=0&k=20&c=aTGuwKqEGe4iDEAS7-JDl36aHl0HDWR_5zYUxV46DZ4=', 'https://media.istockphoto.com/id/1370511233/photo/young-woman-working-from-home-with-a-boston-terrier-dog-freelancer-businesswoman-using-laptop.jpg?b=1&s=170667a&w=0&k=20&c=gBZp146qhWPdsfKExEZnM3ZuLXDjbPSBwyVRA5OQZT4=', 'https://media.istockphoto.com/id/1325997469/photo/active-ethnic-senior-woman-enjoying-the-outdoors-with-her-pet-dog.jpg?b=1&s=170667a&w=0&k=20&c=M5DdIWifFrhP4FnxOotFUS-urYKtjUvVmg9hyeWIRmw=', 'https://media.istockphoto.com/id/1445008380/photo/the-veterinarian-doctor-treating-checking-on-dog-at-vet-clinic.jpg?b=1&s=170667a&w=0&k=20&c=PMHt4LS_6aMZfzmcOYVJb9tkGjrrIGq59d-jQO4Kuas=', 'https://media.istockphoto.com/id/1389678530/photo/happy-african-american-family-and-their-dog-enjoying-at-home.jpg?b=1&s=170667a&w=0&k=20&c=eORqSr2TSpY0OKVBPydlDsU3g3Zn98fiVgs-L5l_xds=', 'https://media.istockphoto.com/id/1411192591/photo/the-labrador-dog-sits-in-the-meadow-scratches-his-torso-with-his-feet-sunny-summer-park-day.jpg?b=1&s=170667a&w=0&k=20&c=ryf2_FaPTgYNjxgRtqzOH8u2RFIJnsTg59dmsFMpsC8=', 'https://media.istockphoto.com/id/1390489603/photo/a-beautiful-young-woman-is-giving-treats-to-her-dog.jpg?b=1&s=170667a&w=0&k=20&c=HB8EtBQBK7rqZed-AWhAm0aWIAKRlGA7VHJftH9F4ho=', 'https://media.istockphoto.com/id/1319300527/photo/a-staffordshire-bull-terrier-mixed-breed-dog-with-a-head-tilt.jpg?b=1&s=170667a&w=0&k=20&c=tc-Px31He-m7WcnNKqmJKYsv5y4wl2cRRv9AoDZFq5E=', 'https://media.istockphoto.com/id/1372091241/photo/shot-of-a-young-couple-sitting-with-their-border-collie-in-their-living-room-at-home-and.jpg?b=1&s=170667a&w=0&k=20&c=0NF90ltJCKrGiRnC4NBqkIyd6wZ2Yo8GRw2oiv1Oq_E=', 'https://media.istockphoto.com/id/1362221208/photo/dog-and-cat-are-best-friends-playing-together-at-home.jpg?b=1&s=170667a&w=0&k=20&c=k77snnPIHw9gmkAK05al5Pf-8BnnjQftxu_7dPLqhpY=', 'https://media.istockphoto.com/id/1390489603/photo/a-beautiful-young-woman-is-giving-treats-to-her-dog.jpg?b=1&s=170667a&w=0&k=20&c=HB8EtBQBK7rqZed-AWhAm0aWIAKRlGA7VHJftH9F4ho=', 'https://media.istockphoto.com/id/1319300527/photo/a-staffordshire-bull-terrier-mixed-breed-dog-with-a-head-tilt.jpg?b=1&s=170667a&w=0&k=20&c=tc-Px31He-m7WcnNKqmJKYsv5y4wl2cRRv9AoDZFq5E=', 'https://media.istockphoto.com/id/1372091241/photo/shot-of-a-young-couple-sitting-with-their-border-collie-in-their-living-room-at-home-and.jpg?b=1&s=170667a&w=0&k=20&c=0NF90ltJCKrGiRnC4NBqkIyd6wZ2Yo8GRw2oiv1Oq_E=', 'https://media.istockphoto.com/id/1362221208/photo/dog-and-cat-are-best-friends-playing-together-at-home.jpg?b=1&s=170667a&w=0&k=20&c=k77snnPIHw9gmkAK05al5Pf-8BnnjQftxu_7dPLqhpY=', 'https://media.istockphoto.com/id/1372099505/photo/shot-of-a-young-woman-sitting-with-her-border-collie-in-the-living-room-and-using-her.jpg?b=1&s=170667a&w=0&k=20&c=Z5iq-JCCtFK6uJGefxhZby0ysP9K4WH0PHTZik_6U1g=', 'https://media.istockphoto.com/id/1338422322/photo/funny-portrait-of-cute-puppy-dog-border-collie-wearing-christmas-costume-deer-horns-hat-near.jpg?b=1&s=170667a&w=0&k=20&c=uD0bKRcjQh2ZjXHDM7_grAxvCJ-udSFQdqUFjwJet58=', 'https://media.istockphoto.com/id/1447903697/photo/happy-family-sitting-on-the-sofa-cuddling-and-smiling-at-camera.jpg?b=1&s=170667a&w=0&k=20&c=5gYLSv5bYf74NgR89ShwmyqrUNNDOFj1obHAImz6hkE=', 'https://media.istockphoto.com/id/1410263769/photo/a-dog-waiting-for-a-walk-golden-retriever-sitting-on-a-pink-background-with-a-leash-in-his.jpg?b=1&s=170667a&w=0&k=20&c=hRghzhABXeYrqOwlk664NUWah_n9x1OlpVysWvKxMmA=']\n"
     ]
    }
   ],
   "source": [
    "print(images)"
   ]
  },
  {
   "cell_type": "code",
   "execution_count": 8,
   "metadata": {},
   "outputs": [],
   "source": [
    "for i in range(len(images)):\n",
    "    name='C:/Programming Files/webscraping_practice/dog_images/'+str(i)+\".jpg\"\n",
    "    urllib.request.urlretrieve(images[i],name)"
   ]
  }
 ],
 "metadata": {
  "kernelspec": {
   "display_name": "Python 3",
   "language": "python",
   "name": "python3"
  },
  "language_info": {
   "codemirror_mode": {
    "name": "ipython",
    "version": 3
   },
   "file_extension": ".py",
   "mimetype": "text/x-python",
   "name": "python",
   "nbconvert_exporter": "python",
   "pygments_lexer": "ipython3",
   "version": "3.10.1"
  },
  "orig_nbformat": 4,
  "vscode": {
   "interpreter": {
    "hash": "3d8ab5acaac509e4d858c12fb0d4a8507f032609669b0a96f8e4499f76636384"
   }
  }
 },
 "nbformat": 4,
 "nbformat_minor": 2
}
